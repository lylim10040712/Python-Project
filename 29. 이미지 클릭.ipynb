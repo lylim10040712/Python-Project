{
 "cells": [
  {
   "cell_type": "code",
   "execution_count": 50,
   "id": "2087c97d-d0ce-471e-867a-28c7841f055b",
   "metadata": {},
   "outputs": [],
   "source": [
    "# !pip install pyperclip // 마우스, 키보드 조작\n",
    "# !pip install pyautogui // 매크로\n",
    "# !pip install opencv-python // 이미지 인식"
   ]
  },
  {
   "cell_type": "code",
   "execution_count": 28,
   "id": "0d03da13-ca00-44fa-84ca-897a4bfecfe8",
   "metadata": {},
   "outputs": [],
   "source": [
    "import pyperclip\n",
    "import pyautogui\n",
    "import time\n",
    "\n",
    "A = pyautogui.locateCenterOnScreen(\"1.png\", confidence = 0.8)\n",
    "pyautogui.click(A)\n",
    "time.sleep(2)\n",
    "\n",
    "A = pyautogui.locateCenterOnScreen(\"3.png\", confidence = 0.8)\n",
    "pyautogui.click(A)\n",
    "time.sleep(2)\n",
    "\n",
    "A = pyautogui.locateCenterOnScreen(\"4.png\", confidence = 0.8)\n",
    "pyautogui.click(A)\n",
    "time.sleep(2)\n",
    "\n",
    "text = \"hello world!\"\n",
    "pyperclip.copy(text)\n",
    "pyautogui.hotkey(\"ctrl\",'v')"
   ]
  },
  {
   "cell_type": "code",
   "execution_count": 20,
   "id": "129d7c89-f53e-4a52-ae07-5fc311c25b6c",
   "metadata": {},
   "outputs": [],
   "source": []
  },
  {
   "cell_type": "code",
   "execution_count": null,
   "id": "ce8f61a0-2e48-4929-85e7-8ef754fdbf94",
   "metadata": {},
   "outputs": [],
   "source": []
  }
 ],
 "metadata": {
  "kernelspec": {
   "display_name": "Python 3 (ipykernel)",
   "language": "python",
   "name": "python3"
  },
  "language_info": {
   "codemirror_mode": {
    "name": "ipython",
    "version": 3
   },
   "file_extension": ".py",
   "mimetype": "text/x-python",
   "name": "python",
   "nbconvert_exporter": "python",
   "pygments_lexer": "ipython3",
   "version": "3.12.7"
  }
 },
 "nbformat": 4,
 "nbformat_minor": 5
}
